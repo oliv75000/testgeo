{
 "cells": [
  {
   "cell_type": "code",
   "execution_count": 13,
   "id": "5a096ca9",
   "metadata": {},
   "outputs": [],
   "source": [
    "import osmnx as ox\n",
    "import folium\n",
    "from shapely.geometry import Point, Polygon\n",
    "from shapely.ops import unary_union, polygonize\n",
    "from concave_hull import concave_hull_indexes\n",
    "import numpy as np\n",
    "\n",
    "import osmnx as ox\n",
    "import folium\n",
    "import networkx as nx\n",
    "from shapely.geometry import Point, MultiPoint\n",
    "import alphashape\n",
    "\n",
    "center_point = (48.8566, 2.3522)  # Coordonnées de Paris, France\n",
    "speed_km_h = 15  # Vitesse en km/h\n",
    "num_mins = 15  # Nombre de minutes\n",
    "meters_per_minute = speed_km_h * 1000 / 60  # Conversion de la vitesse en mètres par minute\n",
    "\n",
    "# Créer un graphe à partir du point central\n",
    "G = ox.graph_from_point(center_point, dist=meters_per_minute * num_mins, network_type='drive')\n",
    "\n",
    "# Trouver le nœud le plus proche du point central\n",
    "nearest_node = ox.nearest_nodes(G, center_point[1], center_point[0])  # Notez l'ordre longitude, latitude\n",
    "\n",
    "# Utiliser ce nœud comme centre pour ego_graph\n",
    "subgraph = nx.ego_graph(G, nearest_node, radius=num_mins, distance='time')\n",
    "isochrone = ox.graph_to_gdfs(G, edges=False)\n",
    "isochrone_polygon = isochrone.unary_union.convex_hull\n"
   ]
  },
  {
   "cell_type": "code",
   "execution_count": 14,
   "id": "228df6aa",
   "metadata": {},
   "outputs": [],
   "source": [
    "other_points = [(48.85,2.35), (48.86,2.35), (48.87,2.35)]\n",
    "other_points_geom = [Point(lon, lat) for lat, lon in other_points]\n",
    "\n",
    "valid_geometries = [geom for geom in other_points_geom if geom.is_valid]\n",
    "points_within_isochrone = [point for point in valid_geometries if isochrone_polygon.contains(point)]\n",
    "\n",
    "m = folium.Map(location=center_point, zoom_start=13)\n",
    "\n",
    "#folium.GeoJson(Polygon(list(isochrone_polygon.exterior.coords))).add_to(m)\n",
    "\n",
    "point_array = np.array([[point.x, point.y] for point in points])\n",
    "idxes = concave_hull_indexes(\n",
    "    point_array[:, :2],\n",
    "    #length_threshold=1,\n",
    "    concavity=0.8,\n",
    ")\n",
    "\n",
    "polygon_coords = point_array[idxes, ::-1].tolist()\n",
    "\n",
    "folium.Polygon(locations=polygon_coords, color='blue', fill=True, fill_color='blue', fill_opacity=0.4).add_to(m)\n",
    "\n",
    "\n",
    "\n",
    "\n",
    "# Adding markers for the center and points within the concave hull\n",
    "folium.Marker(location=center_point, popup='Center Point', icon=folium.Icon(color='red')).add_to(m)\n",
    "for point in points_within_isochrone:\n",
    "    folium.Marker(location=(point.y, point.x), popup='Point Within 15 mins', icon=folium.Icon(color='green')).add_to(m)\n",
    "\n"
   ]
  },
  {
   "cell_type": "code",
   "execution_count": 5,
   "id": "f3f6ad5d",
   "metadata": {},
   "outputs": [],
   "source": [
    "import io\n",
    "from PIL import Image\n",
    "\n",
    "img_data = m._to_png(5)\n",
    "img = Image.open(io.BytesIO(img_data))\n",
    "img.save('my_map.png')"
   ]
  },
  {
   "cell_type": "code",
   "execution_count": 6,
   "id": "4a87754f",
   "metadata": {},
   "outputs": [],
   "source": [
    "map_file_path = 'Downloads'\n",
    "m.save(map_file_path)"
   ]
  },
  {
   "cell_type": "code",
   "execution_count": null,
   "metadata": {},
   "outputs": [],
   "source": []
  }
 ],
 "metadata": {
  "kernelspec": {
   "display_name": "Python 3 (ipykernel)",
   "language": "python",
   "name": "python3"
  },
  "language_info": {
   "codemirror_mode": {
    "name": "ipython",
    "version": 3
   },
   "file_extension": ".py",
   "mimetype": "text/x-python",
   "name": "python",
   "nbconvert_exporter": "python",
   "pygments_lexer": "ipython3",
   "version": "3.9.13"
  }
 },
 "nbformat": 4,
 "nbformat_minor": 5
}
